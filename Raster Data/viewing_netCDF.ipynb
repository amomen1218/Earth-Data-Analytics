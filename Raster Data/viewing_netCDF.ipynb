{
  "nbformat": 4,
  "nbformat_minor": 0,
  "metadata": {
    "colab": {
      "provenance": []
    },
    "kernelspec": {
      "name": "python3",
      "display_name": "Python 3"
    },
    "language_info": {
      "name": "python"
    }
  },
  "cells": [
    {
      "cell_type": "code",
      "execution_count": 5,
      "metadata": {
        "colab": {
          "base_uri": "https://localhost:8080/"
        },
        "id": "dilJJ5cl_jFW",
        "outputId": "799161c7-475d-466c-930d-f7c22e455dc3"
      },
      "outputs": [
        {
          "output_type": "stream",
          "name": "stdout",
          "text": [
            "<xarray.Dataset> Size: 3MB\n",
            "Dimensions:    (time: 31, bnds: 2, y: 139, x: 163)\n",
            "Coordinates:\n",
            "  * time       (time) datetime64[ns] 248B 2050-01-01T12:00:00 ... 2050-01-31T...\n",
            "    lon        (y, x) float64 181kB 92.2 92.43 92.66 92.88 ... 128.4 128.6 128.9\n",
            "    lat        (y, x) float64 181kB -10.84 -10.84 -10.84 ... 19.9 19.9 19.9\n",
            "  * x          (x) float64 1kB -2.85e+06 -2.825e+06 ... 1.175e+06 1.2e+06\n",
            "  * y          (y) float64 1kB -1.925e+06 -1.9e+06 ... 1.5e+06 1.525e+06\n",
            "Dimensions without coordinates: bnds\n",
            "Data variables:\n",
            "    time_bnds  (time, bnds) datetime64[ns] 496B 2050-01-01 ... 2050-02-01\n",
            "    crs        int32 4B 1\n",
            "    pr         (time, y, x) float32 3MB 5.669e-05 7.122e-05 ... 4.279e-06\n",
            "Attributes: (12/96)\n",
            "    CDI:                                        Climate Data Interface versio...\n",
            "    Conventions:                                CF-1.4\n",
            "    history:                                    Tue Oct 19 17:14:54 2021: cdo...\n",
            "    source:                                     RegCM Model output file\n",
            "    institution:                                International Centre for Theo...\n",
            "    comment:                                    RegCM CORDEX Exp_03 run\n",
            "    ...                                         ...\n",
            "    mit_max_parcel_neg_temp_perturbation:       0.9\n",
            "    mit_approach_rate_quasi_eq_coeff_a:         0.2\n",
            "    mit_approach_rate_quasi_eq_coeff_d:         0.1\n",
            "    holtslag_critical_ocean_richardson:         0.25\n",
            "    holtslag_critical_land_richardson:          0.25\n",
            "    CDO:                                        Climate Data Operators versio...\n"
          ]
        }
      ],
      "source": [
        "import xarray as xr\n",
        "data = xr.load_dataset('/content/drive/MyDrive/climate_data_analysis with py/data/pr_SEA-22_MPI-M-MPI-ESM-MR_rcp45_r1i1p1_ICTP-RegCM4-3_v4_day_2050010112-2050013112.nc')\n",
        "print(data)"
      ]
    },
    {
      "cell_type": "code",
      "source": [],
      "metadata": {
        "id": "UIxj0sj7cXzx"
      },
      "execution_count": null,
      "outputs": []
    },
    {
      "cell_type": "code",
      "source": [
        "prdata = data['pr']\n",
        "print(prdata)"
      ],
      "metadata": {
        "colab": {
          "base_uri": "https://localhost:8080/"
        },
        "id": "EajN2krta7qm",
        "outputId": "2db04dea-39c7-48d6-e8c8-b49c2588376c"
      },
      "execution_count": 3,
      "outputs": [
        {
          "output_type": "stream",
          "name": "stdout",
          "text": [
            "<xarray.DataArray 'pr' (time: 31, y: 139, x: 163)> Size: 3MB\n",
            "array([[[5.66884228e-05, 7.12184265e-05, 8.08922778e-05, ...,\n",
            "         4.99727175e-05, 4.70305386e-05, 4.15249997e-05],\n",
            "        [7.19878299e-05, 8.96513448e-05, 1.04741936e-04, ...,\n",
            "         3.59409023e-05, 3.33473945e-05, 2.74337235e-05],\n",
            "        [8.50599754e-05, 8.79867948e-05, 9.24862106e-05, ...,\n",
            "         2.38525372e-05, 2.14754928e-05, 1.85935241e-05],\n",
            "        ...,\n",
            "        [0.00000000e+00, 0.00000000e+00, 0.00000000e+00, ...,\n",
            "         1.46731654e-05, 1.57192553e-05, 1.33902377e-05],\n",
            "        [0.00000000e+00, 0.00000000e+00, 0.00000000e+00, ...,\n",
            "         1.51430550e-05, 1.83123811e-05, 1.75770001e-05],\n",
            "        [0.00000000e+00, 0.00000000e+00, 0.00000000e+00, ...,\n",
            "         1.44670594e-05, 1.91073777e-05, 2.11419465e-05]],\n",
            "\n",
            "       [[2.53126200e-05, 2.99115272e-05, 2.82862638e-05, ...,\n",
            "         4.68438702e-06, 4.42057581e-06, 3.15505713e-06],\n",
            "        [4.41321863e-05, 4.18375384e-05, 3.79462217e-05, ...,\n",
            "         3.99064220e-06, 4.58632121e-06, 4.41738575e-06],\n",
            "        [4.15991744e-05, 4.02299229e-05, 4.09396780e-05, ...,\n",
            "         4.77389540e-06, 5.12257157e-06, 4.61980017e-06],\n",
            "...\n",
            "        [0.00000000e+00, 0.00000000e+00, 0.00000000e+00, ...,\n",
            "         9.15602504e-06, 9.05847719e-06, 8.66083610e-06],\n",
            "        [0.00000000e+00, 0.00000000e+00, 0.00000000e+00, ...,\n",
            "         1.04154751e-05, 1.04079154e-05, 1.03291341e-05],\n",
            "        [0.00000000e+00, 0.00000000e+00, 0.00000000e+00, ...,\n",
            "         1.14837358e-05, 1.11140744e-05, 1.08458644e-05]],\n",
            "\n",
            "       [[3.37982055e-05, 3.56457713e-05, 4.20223078e-05, ...,\n",
            "         9.46381533e-06, 1.33570456e-05, 1.76086160e-05],\n",
            "        [3.01313230e-05, 3.17797894e-05, 3.31426236e-05, ...,\n",
            "         8.92359276e-06, 1.26669675e-05, 2.03402706e-05],\n",
            "        [2.84578073e-05, 3.10598334e-05, 3.37552046e-05, ...,\n",
            "         7.82380266e-06, 1.12510425e-05, 1.92108164e-05],\n",
            "        ...,\n",
            "        [4.12555164e-06, 5.41452209e-06, 4.10951452e-06, ...,\n",
            "         2.37369522e-06, 2.46468858e-06, 2.30961905e-06],\n",
            "        [5.57190651e-06, 7.11544226e-06, 4.43799308e-06, ...,\n",
            "         2.79866413e-06, 2.86558520e-06, 2.87891089e-06],\n",
            "        [6.58342242e-06, 8.68764801e-06, 5.47369791e-06, ...,\n",
            "         3.74756655e-06, 3.94315157e-06, 4.27877694e-06]]], dtype=float32)\n",
            "Coordinates:\n",
            "  * time     (time) datetime64[ns] 248B 2050-01-01T12:00:00 ... 2050-01-31T12...\n",
            "    lon      (y, x) float64 181kB 92.2 92.43 92.66 92.88 ... 128.4 128.6 128.9\n",
            "    lat      (y, x) float64 181kB -10.84 -10.84 -10.84 -10.84 ... 19.9 19.9 19.9\n",
            "  * x        (x) float64 1kB -2.85e+06 -2.825e+06 -2.8e+06 ... 1.175e+06 1.2e+06\n",
            "  * y        (y) float64 1kB -1.925e+06 -1.9e+06 ... 1.5e+06 1.525e+06\n",
            "Attributes:\n",
            "    standard_name:  precipitation_flux\n",
            "    long_name:      Precipitation\n",
            "    units:          kg m-2 s-1\n",
            "    grid_mapping:   crs\n",
            "    cell_methods:   time: mean\n"
          ]
        }
      ]
    },
    {
      "cell_type": "code",
      "source": [
        "datatime = data['time']\n",
        "print(datatime)"
      ],
      "metadata": {
        "colab": {
          "base_uri": "https://localhost:8080/"
        },
        "id": "bpYQIvGbbTVE",
        "outputId": "761fc268-8d5f-4af2-b115-b63940d975b9"
      },
      "execution_count": 10,
      "outputs": [
        {
          "output_type": "stream",
          "name": "stdout",
          "text": [
            "<xarray.DataArray 'time' (time: 31)> Size: 248B\n",
            "array(['2050-01-01T12:00:00.000000000', '2050-01-02T12:00:00.000000000',\n",
            "       '2050-01-03T12:00:00.000000000', '2050-01-04T12:00:00.000000000',\n",
            "       '2050-01-05T12:00:00.000000000', '2050-01-06T12:00:00.000000000',\n",
            "       '2050-01-07T12:00:00.000000000', '2050-01-08T12:00:00.000000000',\n",
            "       '2050-01-09T12:00:00.000000000', '2050-01-10T12:00:00.000000000',\n",
            "       '2050-01-11T12:00:00.000000000', '2050-01-12T12:00:00.000000000',\n",
            "       '2050-01-13T12:00:00.000000000', '2050-01-14T12:00:00.000000000',\n",
            "       '2050-01-15T12:00:00.000000000', '2050-01-16T12:00:00.000000000',\n",
            "       '2050-01-17T12:00:00.000000000', '2050-01-18T12:00:00.000000000',\n",
            "       '2050-01-19T12:00:00.000000000', '2050-01-20T12:00:00.000000000',\n",
            "       '2050-01-21T12:00:00.000000000', '2050-01-22T12:00:00.000000000',\n",
            "       '2050-01-23T12:00:00.000000000', '2050-01-24T12:00:00.000000000',\n",
            "       '2050-01-25T12:00:00.000000000', '2050-01-26T12:00:00.000000000',\n",
            "       '2050-01-27T12:00:00.000000000', '2050-01-28T12:00:00.000000000',\n",
            "       '2050-01-29T12:00:00.000000000', '2050-01-30T12:00:00.000000000',\n",
            "       '2050-01-31T12:00:00.000000000'], dtype='datetime64[ns]')\n",
            "Coordinates:\n",
            "  * time     (time) datetime64[ns] 248B 2050-01-01T12:00:00 ... 2050-01-31T12...\n",
            "Attributes:\n",
            "    standard_name:  time\n",
            "    long_name:      time\n",
            "    bounds:         time_bnds\n",
            "    axis:           T\n"
          ]
        }
      ]
    },
    {
      "cell_type": "code",
      "source": [
        "datacord = data['x']\n",
        "print(datacord)"
      ],
      "metadata": {
        "colab": {
          "base_uri": "https://localhost:8080/"
        },
        "id": "yN0t0UZDc_nT",
        "outputId": "f7415930-74f5-46c2-dbdf-c216c48c0ffd"
      },
      "execution_count": 12,
      "outputs": [
        {
          "output_type": "stream",
          "name": "stdout",
          "text": [
            "<xarray.DataArray 'x' (x: 163)> Size: 1kB\n",
            "array([-2850000., -2825000., -2800000., -2775000., -2750000., -2725000.,\n",
            "       -2700000., -2675000., -2650000., -2625000., -2600000., -2575000.,\n",
            "       -2550000., -2525000., -2500000., -2475000., -2450000., -2425000.,\n",
            "       -2400000., -2375000., -2350000., -2325000., -2300000., -2275000.,\n",
            "       -2250000., -2225000., -2200000., -2175000., -2150000., -2125000.,\n",
            "       -2100000., -2075000., -2050000., -2025000., -2000000., -1975000.,\n",
            "       -1950000., -1925000., -1900000., -1875000., -1850000., -1825000.,\n",
            "       -1800000., -1775000., -1750000., -1725000., -1700000., -1675000.,\n",
            "       -1650000., -1625000., -1600000., -1575000., -1550000., -1525000.,\n",
            "       -1500000., -1475000., -1450000., -1425000., -1400000., -1375000.,\n",
            "       -1350000., -1325000., -1300000., -1275000., -1250000., -1225000.,\n",
            "       -1200000., -1175000., -1150000., -1125000., -1100000., -1075000.,\n",
            "       -1050000., -1025000., -1000000.,  -975000.,  -950000.,  -925000.,\n",
            "        -900000.,  -875000.,  -850000.,  -825000.,  -800000.,  -775000.,\n",
            "        -750000.,  -725000.,  -700000.,  -675000.,  -650000.,  -625000.,\n",
            "        -600000.,  -575000.,  -550000.,  -525000.,  -500000.,  -475000.,\n",
            "        -450000.,  -425000.,  -400000.,  -375000.,  -350000.,  -325000.,\n",
            "        -300000.,  -275000.,  -250000.,  -225000.,  -200000.,  -175000.,\n",
            "        -150000.,  -125000.,  -100000.,   -75000.,   -50000.,   -25000.,\n",
            "              0.,    25000.,    50000.,    75000.,   100000.,   125000.,\n",
            "         150000.,   175000.,   200000.,   225000.,   250000.,   275000.,\n",
            "         300000.,   325000.,   350000.,   375000.,   400000.,   425000.,\n",
            "         450000.,   475000.,   500000.,   525000.,   550000.,   575000.,\n",
            "         600000.,   625000.,   650000.,   675000.,   700000.,   725000.,\n",
            "         750000.,   775000.,   800000.,   825000.,   850000.,   875000.,\n",
            "         900000.,   925000.,   950000.,   975000.,  1000000.,  1025000.,\n",
            "        1050000.,  1075000.,  1100000.,  1125000.,  1150000.,  1175000.,\n",
            "        1200000.])\n",
            "Coordinates:\n",
            "  * x        (x) float64 1kB -2.85e+06 -2.825e+06 -2.8e+06 ... 1.175e+06 1.2e+06\n",
            "Attributes:\n",
            "    standard_name:  projection_x_coordinate\n",
            "    long_name:      x-coordinate in Cartesian system\n",
            "    units:          m\n",
            "    axis:           X\n"
          ]
        }
      ]
    },
    {
      "cell_type": "code",
      "source": [
        "attribute = data.attrs\n",
        "print(attribute)"
      ],
      "metadata": {
        "colab": {
          "base_uri": "https://localhost:8080/"
        },
        "id": "VGiRGBzWdNJF",
        "outputId": "460f080b-49cd-4782-a250-d3c38fd08cc1"
      },
      "execution_count": 15,
      "outputs": [
        {
          "output_type": "stream",
          "name": "stdout",
          "text": [
            "{'CDI': 'Climate Data Interface version 1.9.8 (https://mpimet.mpg.de/cdi)', 'Conventions': 'CF-1.4', 'history': 'Tue Oct 19 17:14:54 2021: cdo sellonlatbox,92,129,-11,20 pr_SEA-22_MPI-M-MPI-ESM-MR_rcp45_r1i1p1_ICTP-RegCM4-3_v4_day_2050.nc temp/pr_SEA-22_MPI-M-MPI-ESM-MR_rcp45_r1i1p1_ICTP-RegCM4-3_v4_day_2050.nc\\nTue Oct 19 17:14:07 2021: cdo mergetime pr_SEA-22_MPI-M-MPI-ESM-MR_rcp45_r1i1p1_ICTP-RegCM4-3_v4_day_2050010112-2050013112.nc pr_SEA-22_MPI-M-MPI-ESM-MR_rcp45_r1i1p1_ICTP-RegCM4-3_v4_day_2050020112-2050022812.nc pr_SEA-22_MPI-M-MPI-ESM-MR_rcp45_r1i1p1_ICTP-RegCM4-3_v4_day_2050030112-2050033112.nc pr_SEA-22_MPI-M-MPI-ESM-MR_rcp45_r1i1p1_ICTP-RegCM4-3_v4_day_2050040112-2050043012.nc pr_SEA-22_MPI-M-MPI-ESM-MR_rcp45_r1i1p1_ICTP-RegCM4-3_v4_day_2050050112-2050053112.nc pr_SEA-22_MPI-M-MPI-ESM-MR_rcp45_r1i1p1_ICTP-RegCM4-3_v4_day_2050060112-2050063012.nc pr_SEA-22_MPI-M-MPI-ESM-MR_rcp45_r1i1p1_ICTP-RegCM4-3_v4_day_2050070112-2050073112.nc pr_SEA-22_MPI-M-MPI-ESM-MR_rcp45_r1i1p1_ICTP-RegCM4-3_v4_day_2050080112-2050083112.nc pr_SEA-22_MPI-M-MPI-ESM-MR_rcp45_r1i1p1_ICTP-RegCM4-3_v4_day_2050090112-2050093012.nc pr_SEA-22_MPI-M-MPI-ESM-MR_rcp45_r1i1p1_ICTP-RegCM4-3_v4_day_2050100112-2050103112.nc pr_SEA-22_MPI-M-MPI-ESM-MR_rcp45_r1i1p1_ICTP-RegCM4-3_v4_day_2050110112-2050113012.nc pr_SEA-22_MPI-M-MPI-ESM-MR_rcp45_r1i1p1_ICTP-RegCM4-3_v4_day_2050120112-2050123112.nc pr_SEA-22_MPI-M-MPI-ESM-MR_rcp45_r1i1p1_ICTP-RegCM4-3_v4_day_2050.nc\\n2015-01-07 02:17:40 : Created by RegCM RegCM Model program', 'source': 'RegCM Model output file', 'institution': 'International Centre for Theoretical Physics', 'comment': 'RegCM CORDEX Exp_03 run', 'model_id': 'ICTP-RegCM4-3', 'rcm_version_id': 'v4', 'CORDEX_domain': 'SEA-22', 'driving_experiment_name': 'rcp45', 'driving_experiment': 'MPI-M-MPI-ESM-MR, rcp45, r1i1p1', 'creation_date': '2017-11-02T08:18:14Z', 'product': 'output', 'driving_model_ensemble_member': 'r1i1p1', 'note': 'The domain is larger than SEA-22', 'ICTP_version_note': \"'RU-CORE'\", 'experiment': 'SEA-22', 'frequency': 'day', 'contact': 'rucore.center@gmail.com', 'experiment_id': 'rcp45', 'ipcc_scenario_code': 'RCP45', 'project_id': 'CORDEX', 'driving_model_id': 'MPI-M-MPI-ESM-MR', 'tracking_id': 'a194789c-bf6b-11e7-9aae-97ddc3e055eb', 'institute_id': 'ICTP', 'title': 'ICTP Regional Climatic model V4', 'references': 'http://gforge.ictp.it/gf/project/regcm', 'model_revision': 'tag 4.3.5.7', 'projection': 'NORMER', 'grid_size_in_meters': 25000.0, 'latitude_of_projection_origin': 6.5, 'longitude_of_projection_origin': 118.0, 'grid_factor': 0.0, 'boundary_nspgx': 12, 'boundary_nspgd': 12, 'boundary_high_nudge': 3.0, 'boundary_medium_nudge': 2.0, 'boundary_low_nudge': 1.0, 'model_is_restarted': 'Yes', 'model_simulation_initial_start': '2005-11-01 00:00:00 UTC', 'model_simulation_start': '2030-01-01 00:00:00 UTC', 'model_simulation_end': '2100-04-01 00:00:00 UTC', 'atmosphere_time_step_in_seconds': 120.0, 'surface_interaction_time_step_in_seconds': 600.0, 'radiation_scheme_time_step_in_minuts': 30.0, 'absorption_emission_time_step_in_hours': 18.0, 'lateral_boundary_condition_scheme': 5, 'boundary_layer_scheme': 1, 'cumulus_convection_scheme': 4, 'moisture_scheme': 1, 'ocean_flux_scheme': 2, 'zeng_ocean_roughness_formula': 1, 'pressure_gradient_scheme': 0, 'surface_emissivity_factor_computed': 0, 'lake_model_activated': 0, 'chemical_aerosol_scheme_activated': 0, 'diurnal_cycle_sst_scheme': 1, 'simple_sea_ice_scheme': 0, 'seasonal_desert_albedo': 1, 'convective_lwp_as_large_scale': 1, 'rrtm_radiation_scheme_activated': 0, 'climatic_ozone_input_dataset': 0, 'static_solar_constant_used': 1, 'subex_bottom_level_with_no_clouds': 1, 'subex_maximum_cloud_fraction_cover': 0.8, 'subex_auto_conversion_rate_for_land': 0.00025, 'subex_auto_conversion_rate_for_ocean': 0.00025, 'subex_gultepe_factor_when_rain_for_land': 0.4, 'subex_gultepe_factor_when_rain_for_ocean': 0.4, 'subex_rh_with_fcc_one': 1.01, 'subex_rh_threshold_for_land': 0.8, 'subex_rh_threshold_for_ocean': 0.9, 'subex_limit_temperature': 238.0, 'subex_raindrop_evaporation_rate': 0.001, 'subex_raindrop_accretion_rate': 3.0, 'subex_cloud_fraction_maximum': 0.75, 'subex_cloud_fraction_max_for_convection': 0.25, 'subex_cloud_liqwat_max_for_convection': 5e-05, 'mit_lowest_convection_sigma': 0.95, 'mit_autoconversion_threshold_mixing': 0.0011, 'mit_autoconversion_threshold_temperature': -55.0, 'mit_mixing_coefficient_in_entrainment': 1.5, 'mit_fractional_area_unsaturated_downdraft': 0.05, 'mit_fractional_precip_outside_cloud': 0.12, 'mit_pressure_velocity_of_rain': 50.0, 'mit_pressure_velocity_of_snow': 5.5, 'mit_rain_evaporation_coefficient': 1.0, 'mit_snow_evaporation_coefficient': 0.8, 'mit_momentum_transport_coefficient': 0.7, 'mit_downdraft_velocity_coefficient': 10.0, 'mit_max_parcel_neg_temp_perturbation': 0.9, 'mit_approach_rate_quasi_eq_coeff_a': 0.2, 'mit_approach_rate_quasi_eq_coeff_d': 0.1, 'holtslag_critical_ocean_richardson': 0.25, 'holtslag_critical_land_richardson': 0.25, 'CDO': 'Climate Data Operators version 1.9.8 (https://mpimet.mpg.de/cdo)'}\n"
          ]
        }
      ]
    }
  ]
}